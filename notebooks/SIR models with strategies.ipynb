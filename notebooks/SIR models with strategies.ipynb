{
 "cells": [
  {
   "cell_type": "markdown",
   "metadata": {},
   "source": [
    "# General SIR ODE model\n",
    "\n",
    "The general SIR ODE model is a system of three differential equations for the population of size $n$, divided into three subpopulations $S$ (susceptible), $I$ (infectious) and $R$ (removed), parametrised by the following equations:\n",
    "\n",
    "$$ \\frac{dS}{dt} = - \\frac{\\beta S I}{n} $$\n",
    "\n",
    "$$ \\frac{dI}{dt} = \\frac{\\beta S I}{n} - \\gamma I $$\n",
    "\n",
    "$$ \\frac{dR}{dt} = \\gamma I $$\n",
    "\n",
    "It follows further from the assumption of static demographics that\n",
    "\n",
    "$$ S + I + R = n $$\n",
    "\n",
    "and\n",
    "\n",
    "$$ \\frac{dS}{dt} + \\frac{dI}{dt} + \\frac{dR}{dt} = 0 $$"
   ]
  },
  {
   "cell_type": "code",
   "execution_count": 1,
   "metadata": {},
   "outputs": [],
   "source": [
    "from scipy.integrate import odeint\n",
    "import matplotlib.pyplot as plt\n",
    "import numpy as np\n",
    "\n",
    "%matplotlib inline"
   ]
  },
  {
   "cell_type": "code",
   "execution_count": 2,
   "metadata": {},
   "outputs": [],
   "source": [
    "def sir_model(y, t, N, beta, gamma):\n",
    "    S, I, R = y\n",
    "    Sdot = - beta * S * I / N \n",
    "    Idot = (beta * S * I) / N - gamma * I\n",
    "    Rdot = gamma * I\n",
    "    return Sdot, Idot, Rdot"
   ]
  },
  {
   "cell_type": "code",
   "execution_count": 3,
   "metadata": {},
   "outputs": [
    {
     "ename": "NameError",
     "evalue": "name 'N' is not defined",
     "output_type": "error",
     "traceback": [
      "\u001b[0;31m---------------------------------------------------------------------------\u001b[0m",
      "\u001b[0;31mNameError\u001b[0m                                 Traceback (most recent call last)",
      "\u001b[0;32m<ipython-input-3-43fd711598a2>\u001b[0m in \u001b[0;36m<module>\u001b[0;34m\u001b[0m\n\u001b[0;32m----> 1\u001b[0;31m \u001b[0;32mdef\u001b[0m \u001b[0msolve_sir\u001b[0m\u001b[0;34m(\u001b[0m\u001b[0mgamma\u001b[0m\u001b[0;34m,\u001b[0m \u001b[0mR0\u001b[0m\u001b[0;34m,\u001b[0m \u001b[0mN\u001b[0m \u001b[0;34m=\u001b[0m \u001b[0;36m1e4\u001b[0m\u001b[0;34m,\u001b[0m \u001b[0mI_0\u001b[0m \u001b[0;34m=\u001b[0m \u001b[0;36m0.01\u001b[0m\u001b[0;34m*\u001b[0m\u001b[0mN\u001b[0m\u001b[0;34m,\u001b[0m \u001b[0mt_days\u001b[0m \u001b[0;34m=\u001b[0m \u001b[0;36m90\u001b[0m\u001b[0;34m)\u001b[0m\u001b[0;34m:\u001b[0m\u001b[0;34m\u001b[0m\u001b[0;34m\u001b[0m\u001b[0m\n\u001b[0m\u001b[1;32m      2\u001b[0m     \u001b[0mR_0\u001b[0m \u001b[0;34m=\u001b[0m \u001b[0;36m0.0\u001b[0m\u001b[0;34m\u001b[0m\u001b[0;34m\u001b[0m\u001b[0m\n\u001b[1;32m      3\u001b[0m     \u001b[0mS_0\u001b[0m \u001b[0;34m=\u001b[0m \u001b[0mN\u001b[0m \u001b[0;34m-\u001b[0m \u001b[0mI_0\u001b[0m \u001b[0;34m-\u001b[0m \u001b[0mR_0\u001b[0m\u001b[0;34m\u001b[0m\u001b[0;34m\u001b[0m\u001b[0m\n\u001b[1;32m      4\u001b[0m     \u001b[0mbeta\u001b[0m \u001b[0;34m=\u001b[0m \u001b[0mR0\u001b[0m \u001b[0;34m*\u001b[0m \u001b[0mgamma\u001b[0m\u001b[0;34m\u001b[0m\u001b[0;34m\u001b[0m\u001b[0m\n\u001b[1;32m      5\u001b[0m     \u001b[0mt\u001b[0m \u001b[0;34m=\u001b[0m \u001b[0mnp\u001b[0m\u001b[0;34m.\u001b[0m\u001b[0mlinspace\u001b[0m\u001b[0;34m(\u001b[0m\u001b[0;36m0\u001b[0m\u001b[0;34m,\u001b[0m \u001b[0mt_days\u001b[0m\u001b[0;34m,\u001b[0m \u001b[0mt_days\u001b[0m\u001b[0;34m)\u001b[0m\u001b[0;34m\u001b[0m\u001b[0;34m\u001b[0m\u001b[0m\n",
      "\u001b[0;31mNameError\u001b[0m: name 'N' is not defined"
     ]
    }
   ],
   "source": [
    "def solve_sir(gamma, R0, N = 1e4, I_0 = 0.01*N, t_days = 90):\n",
    "    R_0 = 0.0\n",
    "    S_0 = N - I_0 - R_0\n",
    "    beta = R0 * gamma\n",
    "    t = np.linspace(0, t_days, t_days)\n",
    "    \n",
    "    y_0 = S_0, I_0, R_0\n",
    "    \n",
    "    res = odeint(sir_model, y_0, t, args=(N, beta, gamma)).T\n",
    "    return res[0], res[1], res[2], t"
   ]
  },
  {
   "cell_type": "code",
   "execution_count": null,
   "metadata": {},
   "outputs": [],
   "source": [
    "def plot_single_sir(S, I, R, t, inverse_gamma, R0):\n",
    "    fig = plt.figure(facecolor=\"w\")\n",
    "    ax = fig.add_subplot(111, facecolor=\"#dddddd\", axisbelow=True)\n",
    "    ax.plot(t, S, \"b\", alpha=0.5, lw=2, label=\"Susceptible\")\n",
    "    ax.plot(t, I, \"r\", alpha=0.5, lw=2, label=\"Infected\")\n",
    "    ax.plot(t, R, \"g\", alpha=0.5, lw=2, label=\"Removed\")\n",
    "    ax.set_xlabel(\"Time (days)\")\n",
    "    ax.set_ylabel(\"Subpopulation size\")\n",
    "    ax.text(0, 7000, \"$R_0$: 2.63\", fontsize=12)\n",
    "    ax.text(0, 6000, \"$\\gamma$: 1/18\", fontsize=12)\n",
    "    ax.yaxis.set_tick_params(length=0)\n",
    "    ax.xaxis.set_tick_params(length=0)\n",
    "    ax.grid(b=True, which=\"major\", c=\"w\", lw=2, ls=\"-\")\n",
    "    legend = ax.legend()\n",
    "    legend.get_frame().set_alpha(0.5)\n",
    "    for spine in (\"top\", \"right\", \"bottom\", \"left\"):\n",
    "        ax.spines[spine].set_visible(False)\n",
    "    plt.show()"
   ]
  },
  {
   "cell_type": "code",
   "execution_count": null,
   "metadata": {},
   "outputs": [],
   "source": [
    "def create_plot_grid(R0_min=1.5, R0_max=6.5, R0_steps=5, inv_gamma_min=8.5-3.9, inv_gamma_max=8.5+3.9, inv_gamma_steps=5, days=90, save=True):\n",
    "    fig = plt.figure(figsize = (14, 20))\n",
    "    fig.subplots_adjust(hspace=0.5, wspace=0.5)\n",
    "    R0_space = np.linspace(R0_min, R0_max, R0_steps)\n",
    "    gamma_space = np.linspace(inv_gamma_min, inv_gamma_max, inv_gamma_steps)\n",
    "\n",
    "    for idxx, valx in enumerate(R0_space):\n",
    "        for idxy, valy in enumerate(gamma_space):\n",
    "            R0 = valx\n",
    "            gamma = 1.0/valy\n",
    "            S, I, R, t = solve_sir(gamma, R0, t_days=days)\n",
    "            ax = fig.add_subplot(5, 5, idxx*5 + (idxy+1))\n",
    "            ax.plot(t, S, \"b\", alpha=0.5, lw=2, label=\"Susceptible\")\n",
    "            ax.plot(t, I, \"r\", alpha=0.5, lw=2, label=\"Infected\")\n",
    "            ax.plot(t, R, \"g\", alpha=0.5, lw=2, label=\"Removed\")\n",
    "            plot_label = \"$R_0$: \" + str(valx) + \", \" + \"$\\gamma^{-1}$: \" + str(valy)\n",
    "            ax.set_title(plot_label)\n",
    "            ax.yaxis.set_tick_params(length=0)\n",
    "            ax.xaxis.set_tick_params(length=0)\n",
    "            ax.grid(b=True, which=\"major\", c=\"w\", lw=2, ls=\"-\")\n",
    "            #legend = ax.legend()\n",
    "            #legend.get_frame().set_alpha(0.5)\n",
    "            for spine in (\"top\", \"right\", \"bottom\", \"left\"):\n",
    "                ax.spines[spine].set_visible(False)\n",
    "            ax.set_xlabel(\"Time (days)\")\n",
    "            ax.set_ylabel(\"Subpopulation size\")\n",
    "\n",
    "\n",
    "    if save:\n",
    "        plt.savefig(\"../paper/figures/fig1-odes.pdf\")\n",
    "    \n",
    "    plt.show()"
   ]
  },
  {
   "cell_type": "code",
   "execution_count": null,
   "metadata": {
    "scrolled": false
   },
   "outputs": [],
   "source": [
    "create_plot_grid()"
   ]
  },
  {
   "cell_type": "markdown",
   "metadata": {},
   "source": [
    "# Strategy diagrams based on social distancing\n",
    "\n",
    "Let $\\bar{\\sigma}(P)$ denote the average engagement (in the terms of Reluga (2010), the 'investment') of the population $P$, with $0 \\leq \\bar{\\sigma}(P) \\leq 1$, where $1$ stands for a strategy of pure and perfect adherence to social distancing and $0$ stands for no adherence at all. Then, given $R_0$ and $\\gamma$, we can conceptualise and calculate outcomes, in dependence on the compliance factor $\\delta$ ($\\frac{p_d}{n}$, where $p_d$ are those members of $P$ that are engaged in social distancing)."
   ]
  },
  {
   "cell_type": "code",
   "execution_count": null,
   "metadata": {},
   "outputs": [],
   "source": [
    "def sir_strategy_model(y, t, N, delta, beta, gamma):\n",
    "    S, I, R = y\n",
    "    Sdot = - (1-delta) * beta * S * I / N \n",
    "    Idot = (1-delta) * (beta * S * I) / N - gamma * I\n",
    "    Rdot = gamma * I\n",
    "    return Sdot, Idot, Rdot"
   ]
  },
  {
   "cell_type": "code",
   "execution_count": null,
   "metadata": {},
   "outputs": [],
   "source": [
    "@np.vectorize\n",
    "def solve_strategy_for_cumulative_infected(delta, R0, days=14, N = 1e4, I_0 = 0.01*N, gamma=1.0/8.5):\n",
    "    R_0 = 0.0\n",
    "    S_0 = N - I_0 - R_0\n",
    "    beta = R0 * gamma\n",
    "    t = np.linspace(0, days, days)\n",
    "\n",
    "    y_0 = S_0, I_0, R_0\n",
    "\n",
    "    res = odeint(sir_strategy_model, y_0, t, args=(N, delta, beta, gamma)).T\n",
    "    return max(res[1])"
   ]
  },
  {
   "cell_type": "code",
   "execution_count": null,
   "metadata": {},
   "outputs": [],
   "source": [
    "def plot_contours_for_days(sigma_min=0, sigma_max=1, R0_min=1.5, R0_max=6.5, days=[14, 21, 28, 35], save=True):\n",
    "        \n",
    "    R0_space = np.linspace(R0_min, R0_max, 100)\n",
    "    sigma_space = np.linspace(sigma_min, sigma_max, 100)\n",
    "    \n",
    "    fig = plt.figure(figsize = (15, 4))\n",
    "    fig.subplots_adjust(wspace=0.5)\n",
    "    \n",
    "    for idx, val in enumerate(days):\n",
    "        z = solve_strategy_for_cumulative_infected(sigma_space[:, None], R0_space[None, :], val)\n",
    "        ax = fig.add_subplot(1, len(days), idx + 1)\n",
    "        contours = ax.contour(R0_space, sigma_space, z, cmap=\"viridis\", levels = [100, 250, 500, 1000, 2000, 3000, 4000, 5000, 6000])\n",
    "        ax.clabel(contours, inline=True, fontsize = 8, fmt=\"%1.f\")\n",
    "        ax.set_title(f\"{val} days\")\n",
    "        ax.set_xlabel(r\"$R_0$\")\n",
    "        ax.set_ylabel(r\"$\\delta(P)$\")\n",
    "        \n",
    "    if save:\n",
    "        plt.savefig(\"../paper/figures/fig2-strategy_solutions_by_days.pdf\")"
   ]
  },
  {
   "cell_type": "code",
   "execution_count": null,
   "metadata": {
    "scrolled": true
   },
   "outputs": [],
   "source": [
    "plot_contours_for_days()"
   ]
  },
  {
   "cell_type": "markdown",
   "metadata": {},
   "source": [
    "# Calculating population dynamics with social distancing\n",
    "\n",
    "For simplicity's sake, let us assume that social distancing is universal, i.e. those who do engage in social distancing are proportionally equally distributed among the $S$, $I$ and $R$ sub-populations (for COVID-19, due to the relatively low rates of testing, the relatively common clinical characteristics and the relatively frequent asymptomatic cases, this assumption is less illusory than it would be for many other infectious diseases). Then, we can rewrite the SIR equations as\n",
    "\n",
    "$$ \\frac{dS}{dt} = - \\frac{\\beta S I - \\beta \\delta S I}{n} $$\n",
    "\n",
    "$$ \\frac{dI}{dt} = \\frac{\\beta S I - \\beta \\delta S I}{n} - \\gamma I $$\n",
    "\n",
    "$$ \\frac{dR}{dt} = \\gamma I $$\n",
    "\n",
    "which in effect removes a fraction of all susceptibles from liability to infection owing to their social distancing."
   ]
  },
  {
   "cell_type": "code",
   "execution_count": null,
   "metadata": {},
   "outputs": [],
   "source": [
    "def sir_with_distancing(y, t, N, beta, gamma, R0, delta):\n",
    "    S, I, R = y\n",
    "    Sdot = - (beta * S * I - beta * delta * S * I) / N \n",
    "    Idot = (beta * S * I - beta * delta * S * I) / N - gamma * I\n",
    "    Rdot = gamma * I\n",
    "    return Sdot, Idot, Rdot"
   ]
  },
  {
   "cell_type": "code",
   "execution_count": null,
   "metadata": {},
   "outputs": [],
   "source": [
    "@np.vectorize\n",
    "def solve_sir_with_distancing(delta, R0, N = 1e4, I_0 = 0.01*N, gamma=1.0/8.5, days=100):\n",
    "    R_0 = 0.0\n",
    "    S_0 = N - I_0 - R_0\n",
    "    beta = R0*gamma\n",
    "    t = np.linspace(0, days, days)\n",
    "    \n",
    "    y_0 = S_0, I_0, R_0\n",
    "    \n",
    "    res = odeint(sir_with_distancing, y_0, t, args=(N, beta, gamma, R0, delta)).T\n",
    "    \n",
    "    return res"
   ]
  },
  {
   "cell_type": "code",
   "execution_count": null,
   "metadata": {},
   "outputs": [],
   "source": [
    "def plot_sir_with_distancing(days=100, R0=2.67, save=True):\n",
    "    fig = plt.figure(figsize = (15, 6))\n",
    "    fig.subplots_adjust(hspace=0.5, wspace=0.2)\n",
    "\n",
    "    S, I, R = [], [], []\n",
    "    \n",
    "    delta_space = np.linspace(0, 1, 100)\n",
    "    t_space = np.linspace(0, days, days)\n",
    "    \n",
    "    for idx, val in enumerate(delta_space):\n",
    "        _S, _I, _R = solve_sir_with_distancing(val, R0)\n",
    "        S.append(_S)\n",
    "        I.append(_I)\n",
    "        R.append(_R)\n",
    "\n",
    "    axS = fig.add_subplot(1, 3, 1)\n",
    "    contours = axS.contour(t_space, delta_space, S, cmap=\"viridis\")\n",
    "    axS.clabel(contours, inline=True, fontsize = 8, fmt=\"%1.f\")\n",
    "    axS.set_title(f\"Susceptible\")\n",
    "    axS.set_xlabel(r\"days\")\n",
    "    axS.set_ylabel(r\"$\\delta(P)$\")\n",
    "\n",
    "    axI = fig.add_subplot(1, 3, 2)\n",
    "    contours = axI.contour(t_space, delta_space, I, cmap=\"viridis\")\n",
    "    axI.clabel(contours, inline=True, fontsize = 8, fmt=\"%1.f\")\n",
    "    axI.set_title(f\"Infectious\")\n",
    "    axI.set_xlabel(r\"days\")\n",
    "    axI.set_ylabel(r\"$\\delta(P)$\")\n",
    "\n",
    "    axR = fig.add_subplot(1, 3, 3)\n",
    "    contours = axR.contour(t_space, delta_space, R, cmap=\"viridis\")\n",
    "    axR.clabel(contours, inline=True, fontsize = 8, fmt=\"%1.f\")\n",
    "    axR.set_title(f\"Removed\")\n",
    "    axR.set_xlabel(r\"days\")\n",
    "    axR.set_ylabel(r\"$\\delta(P)$\")\n",
    "\n",
    "    if save:\n",
    "        plt.savefig(\"../paper/figures/fig3-SIR-by-delta.pdf\")"
   ]
  },
  {
   "cell_type": "code",
   "execution_count": null,
   "metadata": {
    "scrolled": true
   },
   "outputs": [],
   "source": [
    "plot_sir_with_distancing()"
   ]
  },
  {
   "cell_type": "markdown",
   "metadata": {},
   "source": [
    "## Marginal utility of social distancing\n",
    "\n",
    "The marginal utility of social distancing is the vertical component of the gradient of $I$."
   ]
  },
  {
   "cell_type": "code",
   "execution_count": null,
   "metadata": {},
   "outputs": [],
   "source": [
    "def get_marginal_utility(days=100, R0=2.67, save=True):\n",
    "\n",
    "    S, I, R = [], [], []\n",
    "    \n",
    "    delta_space = np.linspace(0, 1, 100)\n",
    "    t_space = np.linspace(0, days, days)\n",
    "    \n",
    "    for idx, val in enumerate(delta_space):\n",
    "        _S, _I, _R = solve_sir_with_distancing(val, R0, days=days)\n",
    "        S.append(_S)\n",
    "        I.append(_I)\n",
    "        R.append(_R)\n",
    "\n",
    "    z = -1 * np.gradient(np.array(S), axis=1)\n",
    "    fig = plt.figure(figsize = (15, 6))\n",
    "    contours = plt.contour(t_space, delta_space, z, cmap=\"viridis\", levels=np.linspace(0, 300, 10))\n",
    "    plt.clabel(contours, inline=True, fontsize = 8, fmt=\"%1.f\")\n",
    "    plt.xlabel(r\"days\")\n",
    "    plt.ylabel(r\"$\\delta(P)$\")\n",
    "\n",
    "    if save:\n",
    "        plt.savefig(\"../paper/figures/marginal_utility.pdf\")"
   ]
  },
  {
   "cell_type": "code",
   "execution_count": null,
   "metadata": {},
   "outputs": [],
   "source": [
    "get_marginal_utility()"
   ]
  },
  {
   "cell_type": "markdown",
   "metadata": {},
   "source": [
    "## Optimum cost fraction\n",
    "\n",
    "The fraction \n",
    "\n",
    "$$ \\frac{c_d}{c_i}(P, t) = \\frac{(1 - \\delta(t)) R_0 \\gamma S(t) I(t)}{\\delta(t) n^2} $$\n",
    "\n",
    "for a given value of $\\delta(t)$ in a population $n^2$ determines a threshold of optimum strategy."
   ]
  },
  {
   "cell_type": "code",
   "execution_count": null,
   "metadata": {},
   "outputs": [],
   "source": [
    "@np.vectorize\n",
    "def solve_for_optimum_cost(delta, R0=2.67, N = 1e4, I_0 = 0.01*N, gamma=1.0/8.5, days=100):\n",
    "    R_0 = 0.0\n",
    "    S_0 = N - I_0 - R_0\n",
    "    beta = R0*gamma\n",
    "    t = np.linspace(0, days, days)\n",
    "    \n",
    "    y_0 = S_0, I_0, R_0\n",
    "    \n",
    "    S, I, R = odeint(sir_with_distancing, y_0, t, args=(N, beta, gamma, R0, delta)).T\n",
    "    \n",
    "    return ((1 - delta)*R0*gamma*S*I)/(delta * N**2)"
   ]
  },
  {
   "cell_type": "code",
   "execution_count": null,
   "metadata": {},
   "outputs": [],
   "source": [
    "def plot_optimum_cost_over_time(days=90, save=True):\n",
    "    \n",
    "    delta_space = np.linspace(0, 1, 100)\n",
    "    t_space = np.linspace(0, days, days)\n",
    "    \n",
    "    cost_fraction = []\n",
    "    \n",
    "    for idx, val in enumerate(delta_space):\n",
    "        cost_fraction.append(solve_for_optimum_cost(val, days=days))\n",
    "\n",
    "    z = np.array(cost_fraction)\n",
    "    print(z.shape)\n",
    "    fig = plt.figure(figsize = (15, 6))\n",
    "    contours = plt.contour(t_space, delta_space, z, cmap=\"RdGy\", levels=[0.0001, 0.00025, 0.001, 0.01, 0.05, 0.1, 0.25, 0.5, 1])\n",
    "    plt.clabel(contours, inline=True, fontsize = 8, fmt=\"%1.4f\")\n",
    "    plt.xlabel(r\"days\")\n",
    "    plt.ylabel(r\"$\\delta(P)$\")\n",
    "    \n",
    "    if save:\n",
    "        plt.savefig(\"../paper/figures/cost_fraction.pdf\")"
   ]
  },
  {
   "cell_type": "code",
   "execution_count": null,
   "metadata": {
    "scrolled": true
   },
   "outputs": [],
   "source": [
    "plot_optimum_cost_over_time()"
   ]
  },
  {
   "cell_type": "code",
   "execution_count": null,
   "metadata": {},
   "outputs": [],
   "source": []
  }
 ],
 "metadata": {
  "kernelspec": {
   "display_name": "Python 3",
   "language": "python",
   "name": "python3"
  },
  "language_info": {
   "codemirror_mode": {
    "name": "ipython",
    "version": 3
   },
   "file_extension": ".py",
   "mimetype": "text/x-python",
   "name": "python",
   "nbconvert_exporter": "python",
   "pygments_lexer": "ipython3",
   "version": "3.7.5"
  }
 },
 "nbformat": 4,
 "nbformat_minor": 4
}
